{
 "cells": [
  {
   "cell_type": "code",
   "execution_count": 12,
   "metadata": {},
   "outputs": [],
   "source": [
    "from data import *\n",
    "import matplotlib.pyplot as plt\n",
    "import matplotlib.colors as mcolors\n",
    "import matplotlib.cm as cm\n",
    "from scipy.signal import savgol_filter\n",
    "from matplotlib.ticker import (MultipleLocator, FormatStrFormatter,\n",
    "                               AutoMinorLocator)\n",
    "\n",
    "from mpl_toolkits.axes_grid1.inset_locator import inset_axes,InsetPosition,mark_inset\n",
    "\n",
    "\n",
    "import seaborn as sns\n",
    "import networkx as nx\n",
    "from lattice.lattice_template import *\n",
    "from lattice.lattice_parallel_numba import *\n",
    "from scipy.optimize import curve_fit"
   ]
  },
  {
   "cell_type": "code",
   "execution_count": 14,
   "metadata": {},
   "outputs": [
    {
     "name": "stdout",
     "output_type": "stream",
     "text": [
      "data.py                                                          ic_gen.py\r\n",
      "dataset_Feb-05-2021_17:28:20_J:-1.5_a:-2.4_64x64_1000flips.hdf5  __init__.py\r\n",
      "dataset_Feb-06-2021_12:46:51_J:-1.5_a:-2.4_64x64_1000flips.hdf5  \u001b[0m\u001b[01;34mlattice\u001b[0m/\r\n",
      "dataset_Feb-06-2021_14:02:55_J:1.5_a:-2.4_64x64_1000flips.hdf5   parallel.py\r\n",
      "\u001b[01;34mdatasets\u001b[0m/                                                        \u001b[01;34m__pycache__\u001b[0m/\r\n",
      "grid_run.py                                                      Test.ipynb\r\n",
      "helper.py\r\n"
     ]
    }
   ],
   "source": [
    "%ls"
   ]
  },
  {
   "cell_type": "code",
   "execution_count": 15,
   "metadata": {},
   "outputs": [],
   "source": [
    "fname = 'dataset_Feb-06-2021_14:02:55_J:1.5_a:-2.4_64x64_1000flips.hdf5'\n",
    "\n",
    "reader = LatticeHDF5ReaderG(fname,100)"
   ]
  },
  {
   "cell_type": "code",
   "execution_count": 16,
   "metadata": {},
   "outputs": [],
   "source": [
    "def ellipse(yp,a,b):\n",
    "    xp = - np.sqrt((b**2)*(1 - (yp**2)/(a**2)))\n",
    "    return xp\n",
    "    \n",
    "    \n",
    "    \n",
    "    \n",
    "def ellipse_fit(ax,df, order = 0.05):\n",
    "    df = df.sort_values('order')\n",
    "    df_curve = df[df['order'].between(order-0.02, order+0.02)]\n",
    "    x = df_curve['rho1'].to_numpy()\n",
    "    y = df_curve['rho2'].to_numpy()\n",
    "\n",
    "    #rotate by 45 degrees and center at (0.5,0.5)\n",
    "    xp = (1/np.sqrt(2))*(x + y) - 1/np.sqrt(2)\n",
    "    yp = (1/np.sqrt(2))*(y - x)\n",
    "    #ax.scatter(x,y)\n",
    "    popt, pcov = curve_fit(ellipse, yp[xp<-0.1], xp[xp<-0.1])\n",
    "    \n",
    "    return popt\n",
    "\n",
    "\n",
    "def plot_ellipse(ax,popt):\n",
    "    yp = np.linspace(-popt[0]+1e-6,popt[0]-1e-6,99)\n",
    "    #print(yp)\n",
    "    xp = ellipse(yp,*popt)\n",
    "    #xp = np.concatenate([0],xp,[0])\n",
    "    #yp = np.concatenate(-)\n",
    "    x = (1/np.sqrt(2))*(xp + 1/np.sqrt(2) - yp) \n",
    "    y = (1/np.sqrt(2))*(xp + 1/np.sqrt(2) + yp)\n",
    "    \n",
    "    x_curve = x[y <= 1.0 - x]\n",
    "    y_curve = y[y <= 1.0 - x]\n",
    "    \n",
    "\n",
    "    ax.plot(x_curve,y_curve,'r--')\n",
    "    \n",
    "    \n",
    "def test_ellipse_fit():\n",
    "    \n",
    "    df = reader_j150.table.copy()\n",
    "    df.set_index('a',inplace=True)\n",
    "    fig, ax = plt.subplots()\n",
    "    popt = ellipse_fit(ax,df)\n",
    "    plot_ellipse(ax,(0.2,0.2))\n",
    "    x = np.linspace(0,1.0,100)\n",
    "    plt.plot(x,1-x)\n",
    "    \n",
    "#test_ellipse_fit()\n",
    "axes_font_size = 14\n",
    "title_font_size = 14\n",
    "label_font_size = 14\n",
    "marker_size = 3\n",
    "pH_line_width = 1\n",
    "\n",
    "\n",
    "def rho_phase_plot_contour(ax,df,reader,fig_let,poptm,show_bar = True):\n",
    "    window = 21\n",
    "    poly_order = 7\n",
    "    \n",
    "    #cmap = cm.PuOr\n",
    "    ax.set_xlim([0,1.0])\n",
    "    ax.set_ylim([0,1.0])\n",
    "    ax.set_aspect('equal')\n",
    "    ax.set_xlabel('$n_1$', size = label_font_size)\n",
    "    ax.set_ylabel('$n_2$', size = label_font_size)\n",
    "    \n",
    "    \n",
    "    levels = [-4,-3,-2,-1,0,2,4]\n",
    "    cmap = sns.color_palette('Set2',len(levels),as_cmap=True) \n",
    "    #cmap = mcolors.ListedColormap(cmap)\n",
    "    norm = mcolors.BoundaryNorm(levels, cmap.N)\n",
    "    ax.tricontourf(df['rho1'],df['rho2'], df.index, cmap=cmap, norm=norm)\n",
    "  \n",
    "    #ax.set_title('J = {0}, K = {1}, {2}x{3}, {4} lattice flips'.format(\n",
    "    #        reader.J,reader.K,reader.Lx,reader.Ly,reader.num_flips),size = 15)\n",
    "    ax.set_title('{2} J = {0}, K = {1}'.format(\n",
    "            -reader.attrs['J'],reader.attrs['K'],fig_let),size = title_font_size,y=1.0,pad=-14)\n",
    "\n",
    "    #ax.xaxis.set_minor_locator(AutoMinorLocator())\n",
    "    #ax.yaxis.set_minor_locator(AutoMinorLocator())\n",
    "    dfp = df.reset_index()\n",
    "    dfp = dfp.set_index('pH')\n",
    "    #print(dfp)\n",
    "    for i,tup in enumerate(dfp.groupby(level=0)):\n",
    "        pH, data = tup\n",
    "        if i%7 == 0:\n",
    "            print(pH)\n",
    "            data = data.sort_values(by='a')\n",
    "            #ax.plot(savgol_filter(data['rho1'],window, poly_order),\n",
    "            #    savgol_filter(data['rho2'],window, poly_order),'k',label ='pH = {}'.format(pH))\n",
    "            ax.plot(data['rho1'],data['rho2'],'k--',label ='pH = {}'.format(pH), lw = pH_line_width)\n",
    "            \n",
    "    #ax.legend()\n",
    "    ax.tick_params(labelsize = axes_font_size)\n",
    "    ax.xaxis.set_major_locator(MultipleLocator(0.5))\n",
    "    ax.yaxis.set_major_locator(MultipleLocator(0.5))\n",
    "\n",
    "    ax.spines['right'].set_color('none')\n",
    "    ax.spines['top'].set_color('none')\n",
    "    \n",
    "    popt = ellipse_fit(ax,df)\n",
    "    plot_ellipse(ax,poptm)\n",
    "    \n",
    "    \n",
    "    if show_bar:\n",
    "        ax_left = 0.91\n",
    "        ax_bottom = 0.25\n",
    "        width = 0.05\n",
    "        height = 0.65\n",
    "        axin = ax.inset_axes([ax_left,ax_bottom,width,height])\n",
    "        ax.text(ax_left - 0.15,ax_bottom + height/2 - 0.02, 'a', size = label_font_size)\n",
    "        fig.colorbar(cm.ScalarMappable(norm=norm, cmap=cmap), cax=axin)\n",
    "        axin.yaxis.tick_left()"
   ]
  },
  {
   "cell_type": "code",
   "execution_count": 17,
   "metadata": {},
   "outputs": [
    {
     "name": "stdout",
     "output_type": "stream",
     "text": [
      "2.0\n",
      "10.75\n"
     ]
    },
    {
     "ename": "TypeError",
     "evalue": "Improper input: N=2 must not exceed M=1",
     "output_type": "error",
     "traceback": [
      "\u001b[0;31m---------------------------------------------------------------------------\u001b[0m",
      "\u001b[0;31mTypeError\u001b[0m                                 Traceback (most recent call last)",
      "\u001b[0;32m<ipython-input-17-a83daa7db6bb>\u001b[0m in \u001b[0;36m<module>\u001b[0;34m\u001b[0m\n\u001b[1;32m      7\u001b[0m \u001b[0mdf\u001b[0m\u001b[0;34m.\u001b[0m\u001b[0mset_index\u001b[0m\u001b[0;34m(\u001b[0m\u001b[0;34m'a'\u001b[0m\u001b[0;34m,\u001b[0m\u001b[0minplace\u001b[0m\u001b[0;34m=\u001b[0m\u001b[0;32mTrue\u001b[0m\u001b[0;34m)\u001b[0m\u001b[0;34m\u001b[0m\u001b[0;34m\u001b[0m\u001b[0m\n\u001b[1;32m      8\u001b[0m \u001b[0;34m\u001b[0m\u001b[0m\n\u001b[0;32m----> 9\u001b[0;31m \u001b[0mrho_phase_plot_contour\u001b[0m\u001b[0;34m(\u001b[0m\u001b[0max\u001b[0m\u001b[0;34m[\u001b[0m\u001b[0;36m0\u001b[0m\u001b[0;34m]\u001b[0m\u001b[0;34m,\u001b[0m\u001b[0mdf\u001b[0m\u001b[0;34m,\u001b[0m\u001b[0mreader\u001b[0m\u001b[0;34m,\u001b[0m\u001b[0;34m'a)'\u001b[0m\u001b[0;34m,\u001b[0m \u001b[0;34m(\u001b[0m\u001b[0;36m0.2\u001b[0m\u001b[0;34m,\u001b[0m\u001b[0;36m0.2\u001b[0m\u001b[0;34m)\u001b[0m\u001b[0;34m,\u001b[0m \u001b[0mshow_bar\u001b[0m\u001b[0;34m=\u001b[0m\u001b[0;32mTrue\u001b[0m\u001b[0;34m)\u001b[0m\u001b[0;34m\u001b[0m\u001b[0;34m\u001b[0m\u001b[0m\n\u001b[0m",
      "\u001b[0;32m<ipython-input-16-46d8df847763>\u001b[0m in \u001b[0;36mrho_phase_plot_contour\u001b[0;34m(ax, df, reader, fig_let, poptm, show_bar)\u001b[0m\n\u001b[1;32m    100\u001b[0m     \u001b[0max\u001b[0m\u001b[0;34m.\u001b[0m\u001b[0mspines\u001b[0m\u001b[0;34m[\u001b[0m\u001b[0;34m'top'\u001b[0m\u001b[0;34m]\u001b[0m\u001b[0;34m.\u001b[0m\u001b[0mset_color\u001b[0m\u001b[0;34m(\u001b[0m\u001b[0;34m'none'\u001b[0m\u001b[0;34m)\u001b[0m\u001b[0;34m\u001b[0m\u001b[0;34m\u001b[0m\u001b[0m\n\u001b[1;32m    101\u001b[0m \u001b[0;34m\u001b[0m\u001b[0m\n\u001b[0;32m--> 102\u001b[0;31m     \u001b[0mpopt\u001b[0m \u001b[0;34m=\u001b[0m \u001b[0mellipse_fit\u001b[0m\u001b[0;34m(\u001b[0m\u001b[0max\u001b[0m\u001b[0;34m,\u001b[0m\u001b[0mdf\u001b[0m\u001b[0;34m)\u001b[0m\u001b[0;34m\u001b[0m\u001b[0;34m\u001b[0m\u001b[0m\n\u001b[0m\u001b[1;32m    103\u001b[0m     \u001b[0mplot_ellipse\u001b[0m\u001b[0;34m(\u001b[0m\u001b[0max\u001b[0m\u001b[0;34m,\u001b[0m\u001b[0mpoptm\u001b[0m\u001b[0;34m)\u001b[0m\u001b[0;34m\u001b[0m\u001b[0;34m\u001b[0m\u001b[0m\n\u001b[1;32m    104\u001b[0m \u001b[0;34m\u001b[0m\u001b[0m\n",
      "\u001b[0;32m<ipython-input-16-46d8df847763>\u001b[0m in \u001b[0;36mellipse_fit\u001b[0;34m(ax, df, order)\u001b[0m\n\u001b[1;32m     16\u001b[0m     \u001b[0myp\u001b[0m \u001b[0;34m=\u001b[0m \u001b[0;34m(\u001b[0m\u001b[0;36m1\u001b[0m\u001b[0;34m/\u001b[0m\u001b[0mnp\u001b[0m\u001b[0;34m.\u001b[0m\u001b[0msqrt\u001b[0m\u001b[0;34m(\u001b[0m\u001b[0;36m2\u001b[0m\u001b[0;34m)\u001b[0m\u001b[0;34m)\u001b[0m\u001b[0;34m*\u001b[0m\u001b[0;34m(\u001b[0m\u001b[0my\u001b[0m \u001b[0;34m-\u001b[0m \u001b[0mx\u001b[0m\u001b[0;34m)\u001b[0m\u001b[0;34m\u001b[0m\u001b[0;34m\u001b[0m\u001b[0m\n\u001b[1;32m     17\u001b[0m     \u001b[0;31m#ax.scatter(x,y)\u001b[0m\u001b[0;34m\u001b[0m\u001b[0;34m\u001b[0m\u001b[0;34m\u001b[0m\u001b[0m\n\u001b[0;32m---> 18\u001b[0;31m     \u001b[0mpopt\u001b[0m\u001b[0;34m,\u001b[0m \u001b[0mpcov\u001b[0m \u001b[0;34m=\u001b[0m \u001b[0mcurve_fit\u001b[0m\u001b[0;34m(\u001b[0m\u001b[0mellipse\u001b[0m\u001b[0;34m,\u001b[0m \u001b[0myp\u001b[0m\u001b[0;34m[\u001b[0m\u001b[0mxp\u001b[0m\u001b[0;34m<\u001b[0m\u001b[0;34m-\u001b[0m\u001b[0;36m0.1\u001b[0m\u001b[0;34m]\u001b[0m\u001b[0;34m,\u001b[0m \u001b[0mxp\u001b[0m\u001b[0;34m[\u001b[0m\u001b[0mxp\u001b[0m\u001b[0;34m<\u001b[0m\u001b[0;34m-\u001b[0m\u001b[0;36m0.1\u001b[0m\u001b[0;34m]\u001b[0m\u001b[0;34m)\u001b[0m\u001b[0;34m\u001b[0m\u001b[0;34m\u001b[0m\u001b[0m\n\u001b[0m\u001b[1;32m     19\u001b[0m \u001b[0;34m\u001b[0m\u001b[0m\n\u001b[1;32m     20\u001b[0m     \u001b[0;32mreturn\u001b[0m \u001b[0mpopt\u001b[0m\u001b[0;34m\u001b[0m\u001b[0;34m\u001b[0m\u001b[0m\n",
      "\u001b[0;32m~/anaconda3/lib/python3.7/site-packages/scipy/optimize/minpack.py\u001b[0m in \u001b[0;36mcurve_fit\u001b[0;34m(f, xdata, ydata, p0, sigma, absolute_sigma, check_finite, bounds, method, jac, **kwargs)\u001b[0m\n\u001b[1;32m    782\u001b[0m         \u001b[0;31m# Remove full_output from kwargs, otherwise we're passing it in twice.\u001b[0m\u001b[0;34m\u001b[0m\u001b[0;34m\u001b[0m\u001b[0;34m\u001b[0m\u001b[0m\n\u001b[1;32m    783\u001b[0m         \u001b[0mreturn_full\u001b[0m \u001b[0;34m=\u001b[0m \u001b[0mkwargs\u001b[0m\u001b[0;34m.\u001b[0m\u001b[0mpop\u001b[0m\u001b[0;34m(\u001b[0m\u001b[0;34m'full_output'\u001b[0m\u001b[0;34m,\u001b[0m \u001b[0;32mFalse\u001b[0m\u001b[0;34m)\u001b[0m\u001b[0;34m\u001b[0m\u001b[0;34m\u001b[0m\u001b[0m\n\u001b[0;32m--> 784\u001b[0;31m         \u001b[0mres\u001b[0m \u001b[0;34m=\u001b[0m \u001b[0mleastsq\u001b[0m\u001b[0;34m(\u001b[0m\u001b[0mfunc\u001b[0m\u001b[0;34m,\u001b[0m \u001b[0mp0\u001b[0m\u001b[0;34m,\u001b[0m \u001b[0mDfun\u001b[0m\u001b[0;34m=\u001b[0m\u001b[0mjac\u001b[0m\u001b[0;34m,\u001b[0m \u001b[0mfull_output\u001b[0m\u001b[0;34m=\u001b[0m\u001b[0;36m1\u001b[0m\u001b[0;34m,\u001b[0m \u001b[0;34m**\u001b[0m\u001b[0mkwargs\u001b[0m\u001b[0;34m)\u001b[0m\u001b[0;34m\u001b[0m\u001b[0;34m\u001b[0m\u001b[0m\n\u001b[0m\u001b[1;32m    785\u001b[0m         \u001b[0mpopt\u001b[0m\u001b[0;34m,\u001b[0m \u001b[0mpcov\u001b[0m\u001b[0;34m,\u001b[0m \u001b[0minfodict\u001b[0m\u001b[0;34m,\u001b[0m \u001b[0merrmsg\u001b[0m\u001b[0;34m,\u001b[0m \u001b[0mier\u001b[0m \u001b[0;34m=\u001b[0m \u001b[0mres\u001b[0m\u001b[0;34m\u001b[0m\u001b[0;34m\u001b[0m\u001b[0m\n\u001b[1;32m    786\u001b[0m         \u001b[0mysize\u001b[0m \u001b[0;34m=\u001b[0m \u001b[0mlen\u001b[0m\u001b[0;34m(\u001b[0m\u001b[0minfodict\u001b[0m\u001b[0;34m[\u001b[0m\u001b[0;34m'fvec'\u001b[0m\u001b[0;34m]\u001b[0m\u001b[0;34m)\u001b[0m\u001b[0;34m\u001b[0m\u001b[0;34m\u001b[0m\u001b[0m\n",
      "\u001b[0;32m~/anaconda3/lib/python3.7/site-packages/scipy/optimize/minpack.py\u001b[0m in \u001b[0;36mleastsq\u001b[0;34m(func, x0, args, Dfun, full_output, col_deriv, ftol, xtol, gtol, maxfev, epsfcn, factor, diag)\u001b[0m\n\u001b[1;32m    412\u001b[0m \u001b[0;34m\u001b[0m\u001b[0m\n\u001b[1;32m    413\u001b[0m     \u001b[0;32mif\u001b[0m \u001b[0mn\u001b[0m \u001b[0;34m>\u001b[0m \u001b[0mm\u001b[0m\u001b[0;34m:\u001b[0m\u001b[0;34m\u001b[0m\u001b[0;34m\u001b[0m\u001b[0m\n\u001b[0;32m--> 414\u001b[0;31m         \u001b[0;32mraise\u001b[0m \u001b[0mTypeError\u001b[0m\u001b[0;34m(\u001b[0m\u001b[0;34m'Improper input: N=%s must not exceed M=%s'\u001b[0m \u001b[0;34m%\u001b[0m \u001b[0;34m(\u001b[0m\u001b[0mn\u001b[0m\u001b[0;34m,\u001b[0m \u001b[0mm\u001b[0m\u001b[0;34m)\u001b[0m\u001b[0;34m)\u001b[0m\u001b[0;34m\u001b[0m\u001b[0;34m\u001b[0m\u001b[0m\n\u001b[0m\u001b[1;32m    415\u001b[0m \u001b[0;34m\u001b[0m\u001b[0m\n\u001b[1;32m    416\u001b[0m     \u001b[0;32mif\u001b[0m \u001b[0mepsfcn\u001b[0m \u001b[0;32mis\u001b[0m \u001b[0;32mNone\u001b[0m\u001b[0;34m:\u001b[0m\u001b[0;34m\u001b[0m\u001b[0;34m\u001b[0m\u001b[0m\n",
      "\u001b[0;31mTypeError\u001b[0m: Improper input: N=2 must not exceed M=1"
     ]
    },
    {
     "data": {
      "image/png": "[encoded data removed]",
      "text/plain": [
       "<Figure size 489.6x489.6 with 4 Axes>"
      ]
     },
     "metadata": {
      "needs_background": "light"
     },
     "output_type": "display_data"
    }
   ],
   "source": [
    "fig, _axs = plt.subplots(nrows=2, ncols=2,figsize=(6.8,6.8))\n",
    "fig.subplots_adjust(hspace=0.3)\n",
    "ax = _axs.flatten()\n",
    "\n",
    "#a) j1 contour\n",
    "df = reader.table.copy()\n",
    "df.set_index('a',inplace=True)\n",
    "\n",
    "rho_phase_plot_contour(ax[0],df,reader,'a)', (0.2,0.2), show_bar=True)"
   ]
  },
  {
   "cell_type": "code",
   "execution_count": 9,
   "metadata": {},
   "outputs": [
    {
     "name": "stdout",
     "output_type": "stream",
     "text": [
      "      a     pH      rho1      rho2     order c0_idx c1_idx\n",
      "0   3.0   2.00  0.950840  0.003140  0.000947     a0    pH0\n",
      "1   3.0   3.25  0.913105  0.047451  0.004287     a0    pH1\n",
      "2   3.0   4.50  0.742021  0.245283  0.014331     a0    pH2\n",
      "3   3.0   5.75  0.521177  0.477673  0.952590     a0    pH3\n",
      "4   3.0   7.00  0.499709  0.500012  0.993672     a0    pH4\n",
      "5   3.0   8.25  0.477085  0.521692  0.951238     a0    pH5\n",
      "6   3.0   9.50  0.245327  0.741653  0.007302     a0    pH6\n",
      "7   3.0  10.75  0.047031  0.914414  0.002676     a0    pH7\n",
      "8   3.0  12.00  0.003247  0.950625  0.000078     a0    pH8\n",
      "9   3.4   2.00  0.963945  0.003530  0.000435     a1    pH0\n",
      "10  3.4   3.25  0.924814  0.049265  0.001042     a1    pH1\n",
      "11  3.4   4.50  0.744509  0.246956  0.008257     a1    pH2\n",
      "12  3.4   5.75  0.521865  0.477334  0.951055     a1    pH3\n",
      "13  3.4   7.00  0.499900  0.499937  0.994011     a1    pH4\n",
      "14  3.4   8.25  0.478057  0.521199  0.953547     a1    pH5\n",
      "15  3.4   9.50  0.246658  0.744692  0.002542     a1    pH6\n",
      "16  3.4  10.75  0.049419  0.924658  0.000273     a1    pH7\n",
      "17  3.4  12.00  0.003606  0.963948  0.000313     a1    pH8\n",
      "18  3.8   2.00  0.974832  0.003733  0.000322     a2    pH0\n",
      "19  3.8   3.25  0.932102  0.050466  0.001206     a2    pH1\n",
      "20  3.8   4.50  0.745603  0.248611  0.010322     a2    pH2\n",
      "21  3.8   5.75  0.521660  0.477793  0.952173     a2    pH3\n",
      "22  3.8   7.00  0.499829  0.500027  0.993816     a2    pH4\n",
      "23  3.8   8.25  0.477576  0.521931  0.950669     a2    pH5\n",
      "24  3.8   9.50  0.248533  0.745544  0.003643     a2    pH6\n",
      "25  3.8  10.75  0.051472  0.930737  0.000862     a2    pH7\n",
      "26  3.8  12.00  0.003562  0.975464  0.000657     a2    pH8\n",
      "27  4.2   2.00  0.982336  0.003677  0.000193     a3    pH0\n",
      "28  4.2   3.25  0.936917  0.051589  0.002720     a3    pH1\n",
      "29  4.2   4.50  0.745630  0.250583  0.014861     a3    pH2\n",
      "..  ...    ...       ...       ...       ...    ...    ...\n",
      "60  5.4   9.50  0.251299  0.747561  0.018972     a6    pH6\n",
      "61  5.4  10.75  0.054512  0.941965  0.000217     a6    pH7\n",
      "62  5.4  12.00  0.003921  0.991682  0.000359     a6    pH8\n",
      "63  5.8   2.00  0.993179  0.003872  0.000684     a7    pH0\n",
      "64  5.8   3.25  0.944082  0.053604  0.001802     a7    pH1\n",
      "65  5.8   4.50  0.748250  0.251003  0.002793     a7    pH2\n",
      "66  5.8   5.75  0.521897  0.478032  0.952673     a7    pH3\n",
      "67  5.8   7.00  0.499939  0.500051  0.994565     a7    pH4\n",
      "68  5.8   8.25  0.478198  0.521748  0.952397     a7    pH5\n",
      "69  5.8   9.50  0.252585  0.746638  0.003311     a7    pH6\n",
      "70  5.8  10.75  0.053245  0.944407  0.002061     a7    pH7\n",
      "71  5.8  12.00  0.003777  0.993318  0.000103     a7    pH8\n",
      "72  6.2   2.00  0.994517  0.003633  0.000303     a8    pH0\n",
      "73  6.2   3.25  0.944141  0.054146  0.000142     a8    pH1\n",
      "74  6.2   4.50  0.747305  0.252192  0.006064     a8    pH2\n",
      "75  6.2   5.75  0.522053  0.477896  0.951667     a8    pH3\n",
      "76  6.2   7.00  0.500051  0.499932  0.994045     a8    pH4\n",
      "77  6.2   8.25  0.478210  0.521736  0.952993     a8    pH5\n",
      "78  6.2   9.50  0.251631  0.747861  0.010454     a8    pH6\n",
      "79  6.2  10.75  0.054795  0.943545  0.000850     a8    pH7\n",
      "80  6.2  12.00  0.003958  0.994045  0.000640     a8    pH8\n",
      "81  6.6   2.00  0.994846  0.003860  0.000454     a9    pH0\n",
      "82  6.6   3.25  0.945559  0.053455  0.000049     a9    pH1\n",
      "83  6.6   4.50  0.747095  0.252568  0.020308     a9    pH2\n",
      "84  6.6   5.75  0.521714  0.478245  0.952888     a9    pH3\n",
      "85  6.6   7.00  0.499980  0.500017  0.993665     a9    pH4\n",
      "86  6.6   8.25  0.478179  0.521780  0.952136     a9    pH5\n",
      "87  6.6   9.50  0.252246  0.747410  0.013811     a9    pH6\n",
      "88  6.6  10.75  0.055059  0.943882  0.001250     a9    pH7\n",
      "89  6.6  12.00  0.003833  0.994858  0.000093     a9    pH8\n",
      "\n",
      "[90 rows x 7 columns]\n"
     ]
    }
   ],
   "source": [
    "print(reader.table)"
   ]
  },
  {
   "cell_type": "code",
   "execution_count": null,
   "metadata": {},
   "outputs": [],
   "source": []
  }
 ],
 "metadata": {
  "kernelspec": {
   "display_name": "Python 3",
   "language": "python",
   "name": "python3"
  },
  "language_info": {
   "codemirror_mode": {
    "name": "ipython",
    "version": 3
   },
   "file_extension": ".py",
   "mimetype": "text/x-python",
   "name": "python",
   "nbconvert_exporter": "python",
   "pygments_lexer": "ipython3",
   "version": "3.7.3"
  }
 },
 "nbformat": 4,
 "nbformat_minor": 2
}
